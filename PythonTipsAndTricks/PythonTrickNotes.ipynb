{
 "cells": [
  {
   "cell_type": "markdown",
   "metadata": {},
   "source": [
    "### 1. Ternary Conditionals "
   ]
  },
  {
   "cell_type": "code",
   "execution_count": 2,
   "metadata": {},
   "outputs": [
    {
     "name": "stdout",
     "output_type": "stream",
     "text": [
      "1\n"
     ]
    }
   ],
   "source": [
    "condition= True\n",
    "x= 1 if condition else 0\n",
    "print(x)"
   ]
  },
  {
   "cell_type": "markdown",
   "metadata": {},
   "source": [
    "### 2. Underscore Placeholders"
   ]
  },
  {
   "cell_type": "markdown",
   "metadata": {},
   "source": [
    "##### For easier to read "
   ]
  },
  {
   "cell_type": "code",
   "execution_count": 12,
   "metadata": {},
   "outputs": [
    {
     "name": "stdout",
     "output_type": "stream",
     "text": [
      "100100000000\n",
      "100,100,000,000\n"
     ]
    }
   ],
   "source": [
    "#num1 = 100000000\n",
    "num1 = 100_000_000_000\n",
    "#num2 = 100000000\n",
    "num2 = 100_000_000\n",
    "# will not change output\n",
    "print(num1+num2)\n",
    "\n",
    "# with other placeholder \n",
    "print(f'{num1+num2:,}')"
   ]
  },
  {
   "cell_type": "markdown",
   "metadata": {},
   "source": [
    "### 3. Context Managers"
   ]
  },
  {
   "cell_type": "code",
   "execution_count": 1,
   "metadata": {},
   "outputs": [
    {
     "name": "stdout",
     "output_type": "stream",
     "text": [
      "Word count=14\n",
      "Word count=14\n"
     ]
    }
   ],
   "source": [
    "f = open('aTextfile.txt','r')\n",
    "all_text=f.read()\n",
    "f.close()\n",
    "word_count=len(all_text.split(' '))\n",
    "print('Word count='+ str(word_count))\n",
    "\n",
    "## Above can be Rewritten using Context manager as\n",
    "## no need to close the file or release resources as context manager will take cae of itb\n",
    "\n",
    "with open('aTextfile.txt','r') as f:\n",
    "    all_text=f.read()\n",
    "word_count=len(all_text.split(' '))\n",
    "print('Word count='+ str(word_count))\n"
   ]
  },
  {
   "cell_type": "markdown",
   "metadata": {},
   "source": [
    "### 4. Enumerate"
   ]
  },
  {
   "cell_type": "code",
   "execution_count": 27,
   "metadata": {},
   "outputs": [
    {
     "name": "stdout",
     "output_type": "stream",
     "text": [
      "0 Ajeet\n",
      "1 Arnav\n",
      "2 Kavita\n",
      "3 Ginni\n",
      "0 Ajeet\n",
      "1 Arnav\n",
      "2 Kavita\n",
      "3 Ginni\n",
      "100 Ajeet\n",
      "101 Arnav\n",
      "102 Kavita\n",
      "103 Ginni\n"
     ]
    }
   ],
   "source": [
    "names =['Ajeet','Arnav','Kavita','Ginni']\n",
    "\n",
    "# if we want to print names and its index\n",
    "index=0\n",
    "for name in names:\n",
    "    print(index,name)\n",
    "    index+=1\n",
    "# same can be achieved through enumerate function\n",
    "# enumerate is function that returns index and value from a list\n",
    "\n",
    "for index,name in enumerate(names):\n",
    "    print(index,name)\n",
    "\n",
    "# We can also start with a certain number as well to loop all values\n",
    "for index,name in enumerate(names,start=100):\n",
    "    print(index,name)\n",
    "    \n",
    "` \n",
    "    \n"
   ]
  },
  {
   "cell_type": "markdown",
   "metadata": {},
   "source": [
    "### 5. Looping two or more lists using zip function"
   ]
  },
  {
   "cell_type": "code",
   "execution_count": 39,
   "metadata": {},
   "outputs": [
    {
     "name": "stdout",
     "output_type": "stream",
     "text": [
      "Ajeet is actually my Self\n",
      "Arnav is actually my Son\n",
      "Kavita is actually my Wife\n",
      "Ginni is actually my Daughter\n",
      "Ajeet is actually my Self and is of age35\n",
      "Arnav is actually my Son and is of age7\n",
      "Kavita is actually my Wife and is of age32\n",
      "Ginni is actually my Daughter and is of age1\n"
     ]
    }
   ],
   "source": [
    "names =['Ajeet','Arnav','Kavita','Ginni']\n",
    "relation_Name=['Self','Son','Wife','Daughter']\n",
    "ages=[35,7,32,1]\n",
    "\n",
    "# if we want to print names and its relation for two different lists which are in one to one relation\n",
    "for index,name in enumerate(names):\n",
    "    relation= relation_Name[index]\n",
    "    print(f'{name} is actually my {relation}')\n",
    "\n",
    "# The above functionality can be achieved using zip function \n",
    "for name,relation,age in zip(names,relation_Name,ages):\n",
    "    print(f'{name} is actually my {relation} and is of age{age}')\n",
    "\n",
    "    "
   ]
  },
  {
   "cell_type": "markdown",
   "metadata": {},
   "source": [
    "### 6.  Unpacking"
   ]
  },
  {
   "cell_type": "code",
   "execution_count": 9,
   "metadata": {},
   "outputs": [
    {
     "name": "stdout",
     "output_type": "stream",
     "text": [
      "(1, 2)\n",
      "1\n",
      "2\n",
      "1\n",
      "1\n",
      "2\n",
      "[3, 4, 5]\n",
      "1\n",
      "2\n",
      "1\n",
      "2\n",
      "[3, 4]\n",
      "5\n",
      "1\n",
      "2\n",
      "5\n"
     ]
    }
   ],
   "source": [
    "items=(1,2)\n",
    "print(items)\n",
    "\n",
    "# Unpacking values\n",
    "a,b =(1,2)\n",
    "print(a)\n",
    "print(b)\n",
    "\n",
    "# if not planning to use the variable in the code\n",
    "a,_=(1,2)\n",
    "print(a)\n",
    "\n",
    "#a,b,c,d,e=(1,2,3,4,5)\n",
    "# if I have a plan to unpack only two value, then we can use * to pack other values\n",
    "a,b,*c=(1,2,3,4,5)\n",
    "print(a)\n",
    "print(b)\n",
    "print(c)\n",
    "\n",
    "# we want to unpack to values and ignore rest values, we can use it like as below:\n",
    "a,b,*_=(1,2,3,4,5)\n",
    "print(a)\n",
    "print(b)\n",
    "\n",
    "# if we want to unpack values from begginings and end, we can use it as follows..\n",
    "a,b,*c,d=(1,2,3,4,5)\n",
    "print(a)\n",
    "print(b)\n",
    "print(c)\n",
    "print(d)\n",
    "\n",
    "# ignoring in between values\n",
    "a,b,*_,d=(1,2,3,4,5)\n",
    "print(a)\n",
    "print(b)\n",
    "print(d)\n"
   ]
  },
  {
   "cell_type": "markdown",
   "metadata": {},
   "source": [
    "### 7. Setattr/Getattr"
   ]
  },
  {
   "cell_type": "markdown",
   "metadata": {},
   "source": [
    "###### In Python, we can dynamically add attributes and values to Object"
   ]
  },
  {
   "cell_type": "code",
   "execution_count": 17,
   "metadata": {},
   "outputs": [
    {
     "name": "stdout",
     "output_type": "stream",
     "text": [
      "Ajeet\n",
      "Mani\n",
      "Arnav\n",
      "Mani\n",
      "Kavita\n",
      "Mani\n",
      "True\n"
     ]
    }
   ],
   "source": [
    "# Empty class\n",
    "class Person():\n",
    "    pass\n",
    "# Adding Atrributes at runtime\n",
    "person = Person()\n",
    "# 1st method\n",
    "person.first='Ajeet'\n",
    "person.last='Mani'\n",
    "\n",
    "print(person.first)\n",
    "print(person.last)\n",
    "\n",
    "# 2nd method using setattr\n",
    "propName='first'\n",
    "propValue='Arnav'\n",
    "\n",
    "propName1='last'\n",
    "propValue1='Mani'\n",
    "setattr(person,propName,propValue)\n",
    "setattr(person,propName1,propValue1)\n",
    "print(person.first)\n",
    "print(person.last)\n",
    "\n",
    "## Creating property in runtime using dictionary \n",
    "class PersonInfo():\n",
    "    pass\n",
    "personAttr={'firstName':'Kavita','lastName':'Mani','married':True}\n",
    "\n",
    "personInfo=PersonInfo()\n",
    "for key,value in personAttr.items():\n",
    "    setattr(personInfo,key,value)\n",
    "\n",
    "# Retrieving attributes using getattr function\n",
    "for key in personAttr.keys():\n",
    "    print(getattr(personInfo,key))\n",
    "\n",
    "\n",
    "\n",
    "\n"
   ]
  },
  {
   "cell_type": "markdown",
   "metadata": {},
   "source": [
    "####  8. GetPass"
   ]
  },
  {
   "cell_type": "markdown",
   "metadata": {},
   "source": [
    "#### 9. Python dash m"
   ]
  },
  {
   "cell_type": "markdown",
   "metadata": {},
   "source": [
    "#### 10. Help/Dir"
   ]
  },
  {
   "cell_type": "markdown",
   "metadata": {},
   "source": [
    "### Iterators and Iterables"
   ]
  },
  {
   "cell_type": "code",
   "execution_count": null,
   "metadata": {},
   "outputs": [],
   "source": [
    "# Iterables means that can be looped over"
   ]
  }
 ],
 "metadata": {
  "kernelspec": {
   "display_name": "Python 3",
   "language": "python",
   "name": "python3"
  },
  "language_info": {
   "codemirror_mode": {
    "name": "ipython",
    "version": 3
   },
   "file_extension": ".py",
   "mimetype": "text/x-python",
   "name": "python",
   "nbconvert_exporter": "python",
   "pygments_lexer": "ipython3",
   "version": "3.7.4"
  }
 },
 "nbformat": 4,
 "nbformat_minor": 2
}
